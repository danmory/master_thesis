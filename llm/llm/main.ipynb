{
 "cells": [
  {
   "cell_type": "markdown",
   "metadata": {},
   "source": [
    "# RAG Pipeline for Smart Contract Generation\n",
    "\n",
    "This notebook demonstrates the complete workflow of converting legal documents into smart contracts using RAG (Retrieval Augmented Generation) and LLM."
   ]
  },
  {
   "cell_type": "code",
   "execution_count": 6,
   "metadata": {},
   "outputs": [],
   "source": [
    "from ctransformers import AutoModelForCausalLM\n",
    "\n",
    "# Initialize LLM\n",
    "llm = AutoModelForCausalLM.from_pretrained(\n",
    "    '../models/codellama-7b.Q5_K_M.gguf',\n",
    "    model_type='llama',\n",
    "    gpu_layers=50,\n",
    "    context_length=8192\n",
    ")"
   ]
  },
  {
   "cell_type": "code",
   "execution_count": 7,
   "metadata": {},
   "outputs": [],
   "source": [
    "with open('../docs/contract_prompt.txt', 'r') as file:\n",
    "    contract_prompt = file.read()"
   ]
  },
  {
   "cell_type": "code",
   "execution_count": 8,
   "metadata": {},
   "outputs": [],
   "source": [
    "with open('../docs/Short-Term-Vacation-Lease-Agreement.txt', 'r') as file:\n",
    "    rental_agreement = file.read()"
   ]
  },
  {
   "cell_type": "code",
   "execution_count": 9,
   "metadata": {},
   "outputs": [],
   "source": [
    "# Prepare the combined prompt\n",
    "prompt = f\"\"\"\n",
    "{contract_prompt}\n",
    "\n",
    "Here is a sample rental agreement for reference:\n",
    "{rental_agreement}\n",
    "\n",
    "Solidity contract:\n",
    "// SPDX-License-Identifier: MIT\n",
    "pragma solidity ^0.8.0;\n",
    "\n",
    "// Begin implementation below:\n",
    "\"\"\"\n",
    "\n",
    "# Configure generation parameters\n",
    "generation_config = {\n",
    "    'temperature': 0.2,\n",
    "    'top_p': 0.95,\n",
    "    'max_new_tokens': 2500,\n",
    "    'stop': ['// End of contract', '```', '// End implementation'],\n",
    "    'repetition_penalty': 1.1\n",
    "}\n"
   ]
  },
  {
   "cell_type": "code",
   "execution_count": 10,
   "metadata": {},
   "outputs": [
    {
     "name": "stdout",
     "output_type": "stream",
     "text": [
      "Generated initial contract:\n",
      "contract RentalAgreement {\n",
      "    // Define state variables\n",
      "    address public lessor;\n",
      "    address public lessee;\n",
      "    string public propertyAddress;\n",
      "    uint256 public rentAmount;\n",
      "    uint256 public agreementDuration;\n",
      "    uint256 public endDate;\n",
      "    uint256 public paymentCounter;\n",
      "    mapping(uint256 => bool) public payments;\n",
      "    \n",
      "    // Define events\n",
      "    event RentPaid(address indexed _from, uint256 _amount);\n",
      "    event AgreementTerminated(address indexed _by, string _reason);\n",
      "    \n",
      "    // Define modifiers\n",
      "    modifier onlyLessor {\n",
      "        require(msg.sender == lessor, \"Only the lessor can call this function.\");\n",
      "        _;\n",
      "    }\n",
      "    \n",
      "    modifier onlyLessee {\n",
      "        require(msg.sender == lessee, \"Only the lessee can call this function.\");\n",
      "        _;\n",
      "    }\n",
      "    \n",
      "    // Define constructor\n",
      "    constructor(address _lessor, address _lessee, string memory _propertyAddress, uint256 _rentAmount, uint256 _agreementDuration) {\n",
      "        lessor = _lessor;\n",
      "        lessee = _lessee;\n",
      "        propertyAddress = _propertyAddress;\n",
      "        rentAmount = _rentAmount;\n",
      "        agreementDuration = _agreementDuration;\n",
      "        endDate = block.timestamp + (agreementDuration * 1 days);\n",
      "    }\n",
      "    \n",
      "    // Define functions\n",
      "    function payRent() public payable {\n",
      "        require(msg.sender == lessee, \"Only the lessee can call this function.\");\n",
      "        require(block.timestamp < endDate, \"The agreement has ended.\");\n",
      "        require(msg.value >= rentAmount, \"Not enough ETH sent.\");\n",
      "        \n",
      "        // Add payment to mapping\n",
      "        payments[paymentCounter] = true;\n",
      "        paymentCounter += 1;\n",
      "        \n",
      "        emit RentPaid(lessee, msg.value);\n",
      "    }\n",
      "    \n",
      "    function terminateAgreement(string memory _reason) public onlyLessor {\n",
      "        require(block.timestamp >= endDate, \"The agreement has not ended yet.\");\n",
      "        require(msg.sender == lessor, \"Only the lessor can call this function.\");\n",
      "        \n",
      "        emit AgreementTerminated(lessor, _reason);\n",
      "    }\n",
      "    \n",
      "    // Define getters\n",
      "    function getLessor() public view returns (address) {\n",
      "        return lessor;\n",
      "    }\n",
      "    \n",
      "    function getLessee() public view returns (address) {\n",
      "        return lessee;\n",
      "    }\n",
      "    \n",
      "    function getPropertyAddress() public view returns (string memory) {\n",
      "        return propertyAddress;\n",
      "    }\n",
      "    \n",
      "    function getRentAmount() public view returns (uint256) {\n",
      "        return rentAmount;\n",
      "    }\n",
      "    \n",
      "    function getAgreementDuration() public view returns (uint256) {\n",
      "        return agreementDuration;\n",
      "    }\n",
      "    \n",
      "    function getEndDate() public view returns (uint256) {\n",
      "        return endDate;\n",
      "    }\n",
      "    \n",
      "    function getPaymentCounter() public view returns (uint256) {\n",
      "        return paymentCounter;\n",
      "    }\n",
      "    \n",
      "    function getPayments() public view returns (mapping(uint256 => bool)) {\n",
      "        return payments;\n",
      "    }\n",
      "}\n",
      "\n",
      "\n"
     ]
    }
   ],
   "source": [
    "# Generate initial contract from LLM\n",
    "initial_contract = llm(prompt, **generation_config)\n",
    "print('Generated initial contract:')\n",
    "print(initial_contract)"
   ]
  },
  {
   "cell_type": "code",
   "execution_count": null,
   "metadata": {},
   "outputs": [],
   "source": [
    "# Assemble final contract using RAG\n",
    "# TODO: Implement RAG\n",
    "print('Assembled final contract with RAG:')\n",
    "print(final_contract)"
   ]
  }
 ],
 "metadata": {
  "kernelspec": {
   "display_name": ".venv",
   "language": "python",
   "name": "python3"
  },
  "language_info": {
   "codemirror_mode": {
    "name": "ipython",
    "version": 3
   },
   "file_extension": ".py",
   "mimetype": "text/x-python",
   "name": "python",
   "nbconvert_exporter": "python",
   "pygments_lexer": "ipython3",
   "version": "3.12.8"
  }
 },
 "nbformat": 4,
 "nbformat_minor": 2
}
