{
 "cells": [
  {
   "cell_type": "markdown",
   "metadata": {},
   "source": [
    "# RAG Pipeline for Smart Contract Generation\n",
    "\n",
    "This notebook demonstrates the complete workflow of converting legal documents into smart contracts using RAG (Retrieval Augmented Generation) and LLM."
   ]
  },
  {
   "cell_type": "code",
   "execution_count": null,
   "metadata": {},
   "outputs": [],
   "source": [
    "%load_ext autoreload\n",
    "%autoreload 2"
   ]
  },
  {
   "cell_type": "code",
   "execution_count": null,
   "metadata": {},
   "outputs": [],
   "source": [
    "with open('../docs/short-term-vacation-lease-agreements/agreement_1.txt', 'r') as file:\n",
    "    rental_agreement = file.read()"
   ]
  },
  {
   "cell_type": "code",
   "execution_count": null,
   "metadata": {},
   "outputs": [],
   "source": [
    "# Prepare the combined prompt\n",
    "prompt = \"\"\"\n",
    "Create a Solidity smart contract for a rental agreement system with the following requirements:\n",
    "\n",
    "1. Contract Structure:\n",
    "- State variables for lessor and lessee addresses\n",
    "- Property details (address hash)\n",
    "- Rent amount in ETH\n",
    "- Agreement duration and end date\n",
    "- Payment tracking\n",
    "\n",
    "2. Core Functionality:\n",
    "- Function to initialize new rental agreements\n",
    "- Rent payment processing\n",
    "- Agreement termination handling\n",
    "\n",
    "3. Rights and Obligations:\n",
    "- Lessor's right to receive rent\n",
    "- Lessee's obligation to pay on time\n",
    "- Property maintenance responsibilities\n",
    "- Inspection rights with notice\n",
    "- No sublease without consent\n",
    "\n",
    "4. Security Features:\n",
    "- Secure payment handling\n",
    "- Access control for functions\n",
    "- Event logging for all actions\n",
    "\n",
    "5. Dispute Resolution:\n",
    "- Arbitration mechanism\n",
    "- Breach handling\n",
    "- Early termination conditions\n",
    "\n",
    "6. Additional Requirements:\n",
    "- Include proper error handling\n",
    "- Emit events for important state changes\n",
    "- Follow Solidity best practices and security patterns\n",
    "\n",
    "As a hint use the following context , which consists of a text description from a part of similar legal agreement and its corresponding Solidity code template (separated by '--- Solidity Template №xxx ---'), to fulfill the user's request:\n",
    "{context}\n",
    "\n",
    "Convert this rental agreement to Solidity smart contract:\n",
    "{agreement_to_convert}\n",
    "\n",
    "Solidity contract:\n",
    "// SPDX-License-Identifier: MIT\n",
    "pragma solidity ^0.8.0;\n",
    "\n",
    "// Begin implementation below:\n",
    "\"\"\""
   ]
  },
  {
   "cell_type": "code",
   "execution_count": null,
   "metadata": {},
   "outputs": [],
   "source": [
    "from langchain_community.llms import LlamaCpp\n",
    "from langchain_community.embeddings import SentenceTransformerEmbeddings\n",
    "from langchain.text_splitter import RecursiveCharacterTextSplitter\n",
    "\n",
    "import rag\n",
    "\n",
    "\n",
    "model = LlamaCpp(\n",
    "    model_path=\"../models/codellama-7b-instruct.Q5_K_M.gguf\",\n",
    "    n_gpu_layers=-1,\n",
    "    n_batch=16,\n",
    "    n_ctx=8192,\n",
    "    temperature=0.75,\n",
    "    max_tokens=2500,\n",
    "    top_p=1\n",
    ")\n",
    "templates = rag.load_templates(\"../templates/\")\n",
    "embeddings = SentenceTransformerEmbeddings(\n",
    "    model_name=\"all-MiniLM-L6-v2\", model_kwargs={'device': 'cuda'})\n",
    "vector_store = rag.create_vector_store(embeddings, templates)\n",
    "text_splitter = RecursiveCharacterTextSplitter(\n",
    "    chunk_size=1000, chunk_overlap=200)\n",
    "rag_chain = rag.create_chain(vector_store, model, text_splitter, prompt)"
   ]
  },
  {
   "cell_type": "code",
   "execution_count": null,
   "metadata": {},
   "outputs": [],
   "source": [
    "model.invoke(\"generate hello world program on java\")"
   ]
  },
  {
   "cell_type": "code",
   "execution_count": null,
   "metadata": {},
   "outputs": [],
   "source": [
    "from IPython.display import Image, display\n",
    "\n",
    "display(Image(rag_chain.get_graph().draw_mermaid_png()))"
   ]
  },
  {
   "cell_type": "code",
   "execution_count": null,
   "metadata": {},
   "outputs": [],
   "source": [
    "agreement_part = \"\"\"\n",
    "  4.  SECURITY DEPOSIT. The Tenant shall be obligated to pay the following amounts upon the execution of this Agreement: (check one)\n",
    "\n",
    "  ☑ - Security Deposit: $3000 (“Security Deposit”). The Security Deposit is for the faithful performance of the Tenant under the terms and conditions of this Agreement. The Tenant must pay the Security Deposit at the execution of this Agreement. The Security Deposit shall be returned to the Tenant within the State's requirements after the end of the Lease Term less any itemized deductions. This Security Deposit shall not be credited towards any Rent unless the Landlord gives their written consent.\n",
    "\"\"\"\n",
    "\n",
    "print(vector_store.similarity_search(agreement_part)[0].page_content)"
   ]
  },
  {
   "cell_type": "code",
   "execution_count": null,
   "metadata": {},
   "outputs": [],
   "source": [
    "print(\"Invoking RAG chain...\")\n",
    "response = rag_chain.invoke({\"agreement_to_convert\": rental_agreement})\n",
    "print(\"Response is generated\")"
   ]
  },
  {
   "cell_type": "code",
   "execution_count": null,
   "metadata": {},
   "outputs": [],
   "source": [
    "print(response[\"answer\"])"
   ]
  }
 ],
 "metadata": {
  "kernelspec": {
   "display_name": "venv",
   "language": "python",
   "name": "python3"
  },
  "language_info": {
   "codemirror_mode": {
    "name": "ipython",
    "version": 3
   },
   "file_extension": ".py",
   "mimetype": "text/x-python",
   "name": "python",
   "nbconvert_exporter": "python",
   "pygments_lexer": "ipython3",
   "version": "3.12.10"
  }
 },
 "nbformat": 4,
 "nbformat_minor": 2
}
