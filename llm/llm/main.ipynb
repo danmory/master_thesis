{
 "cells": [
  {
   "cell_type": "markdown",
   "metadata": {},
   "source": [
    "# RAG Pipeline for Smart Contract Generation\n",
    "\n",
    "This notebook demonstrates the complete workflow of converting legal documents into smart contracts using RAG (Retrieval Augmented Generation) and LLM."
   ]
  },
  {
   "cell_type": "code",
   "execution_count": 1,
   "metadata": {},
   "outputs": [
    {
     "name": "stderr",
     "output_type": "stream",
     "text": [
      "/home/danila/master_thesis/llm/venv/lib/python3.12/site-packages/tqdm/auto.py:21: TqdmWarning: IProgress not found. Please update jupyter and ipywidgets. See https://ipywidgets.readthedocs.io/en/stable/user_install.html\n",
      "  from .autonotebook import tqdm as notebook_tqdm\n"
     ]
    },
    {
     "name": "stdout",
     "output_type": "stream",
     "text": [
      "True\n"
     ]
    }
   ],
   "source": [
    "from ctransformers import AutoModelForCausalLM\n",
    "\n",
    "import torch\n",
    "\n",
    "print(torch.cuda.is_available())\n",
    "\n",
    "# Initialize LLM\n",
    "llm = AutoModelForCausalLM.from_pretrained(\n",
    "    '../models/codellama-7b-instruct.Q5_K_M.gguf',\n",
    "    model_type='llama',\n",
    "    gpu_layers=100,\n",
    "    context_length=8192,\n",
    ")"
   ]
  },
  {
   "cell_type": "code",
   "execution_count": 2,
   "metadata": {},
   "outputs": [],
   "source": [
    "with open('../docs/contract_prompt.txt', 'r') as file:\n",
    "    contract_prompt = file.read()"
   ]
  },
  {
   "cell_type": "code",
   "execution_count": 3,
   "metadata": {},
   "outputs": [],
   "source": [
    "with open('../docs/short-term-vacation-lease-agreements/agreement_1.txt', 'r') as file:\n",
    "    rental_agreement = file.read()"
   ]
  },
  {
   "cell_type": "code",
   "execution_count": 4,
   "metadata": {},
   "outputs": [],
   "source": [
    "# Prepare the combined prompt\n",
    "prompt = f\"\"\"\n",
    "{contract_prompt}\n",
    "\n",
    "Here is a sample rental agreement for reference:\n",
    "{rental_agreement}\n",
    "\n",
    "Solidity contract:\n",
    "// SPDX-License-Identifier: MIT\n",
    "pragma solidity ^0.8.0;\n",
    "\n",
    "// Begin implementation below:\n",
    "\"\"\"\n",
    "\n",
    "# Configure generation parameters\n",
    "generation_config = {\n",
    "    'temperature': 0.2,\n",
    "    'top_p': 0.95,\n",
    "    'max_new_tokens': 2500,\n",
    "    'stop': ['// End of contract', '```', '// End implementation'],\n",
    "    'repetition_penalty': 1.1\n",
    "}"
   ]
  },
  {
   "cell_type": "code",
   "execution_count": 5,
   "metadata": {},
   "outputs": [],
   "source": [
    "# Generate initial contract from LLM\n",
    "# initial_contract = llm(prompt, **generation_config)\n",
    "# print('Generated initial contract:')\n",
    "# print(initial_contract)"
   ]
  },
  {
   "cell_type": "code",
   "execution_count": 10,
   "metadata": {},
   "outputs": [
    {
     "name": "stdout",
     "output_type": "stream",
     "text": [
      "Loading templates from: ../templates/\n"
     ]
    },
    {
     "name": "stderr",
     "output_type": "stream",
     "text": [
      "100%|██████████| 15/15 [00:00<00:00, 19448.09it/s]"
     ]
    },
    {
     "name": "stdout",
     "output_type": "stream",
     "text": [
      "Loaded 15 template documents.\n"
     ]
    },
    {
     "name": "stderr",
     "output_type": "stream",
     "text": [
      "\n"
     ]
    },
    {
     "name": "stdout",
     "output_type": "stream",
     "text": [
      "Creating vector store...\n",
      "Vector store created successfully.\n",
      "Setting up RAG chain...\n",
      "RAG chain setup complete.\n"
     ]
    }
   ],
   "source": [
    "from langchain_community.llms import CTransformers\n",
    "from langchain_community.embeddings import SentenceTransformerEmbeddings\n",
    "from langchain.text_splitter import RecursiveCharacterTextSplitter\n",
    "\n",
    "import rag\n",
    "\n",
    "\n",
    "model = CTransformers(model='../models/codellama-7b-instruct.Q5_K_M.gguf',\n",
    "                      model_type='llama', context_length=8192, gpu_layers=100)\n",
    "templates = rag.load_templates(\"../templates/\")\n",
    "embeddings = SentenceTransformerEmbeddings(\n",
    "    model_name=\"all-MiniLM-L6-v2\", model_kwargs={'device': 'cuda'})\n",
    "vector_store = rag.create_vector_store(embeddings, templates, )\n",
    "text_splitter = RecursiveCharacterTextSplitter(\n",
    "    chunk_size=1000, chunk_overlap=200)\n",
    "rag_chain = rag.create_chain(vector_store, model, text_splitter)"
   ]
  },
  {
   "cell_type": "code",
   "execution_count": 11,
   "metadata": {},
   "outputs": [
    {
     "data": {
      "image/png": "[encoded data removed]",
      "text/plain": [
       "<IPython.core.display.Image object>"
      ]
     },
     "metadata": {},
     "output_type": "display_data"
    }
   ],
   "source": [
    "from IPython.display import Image, display\n",
    "\n",
    "display(Image(rag_chain.get_graph().draw_mermaid_png()))"
   ]
  },
  {
   "cell_type": "code",
   "execution_count": 12,
   "metadata": {},
   "outputs": [
    {
     "name": "stdout",
     "output_type": "stream",
     "text": [
      "4. SECURITY DEPOSIT. The Tenant shall be obligated to pay the following\n",
      "amounts upon the execution of this Agreement: (check one)\n",
      "\n",
      "☐ - No Security Deposit: There is no deposit required for the security\n",
      "of this Agreement (“Security Deposit”).\n",
      "\n",
      "☐ - Security Deposit: $[SECURITY DEPOSIT AMOUNT] (“Security Deposit”).\n",
      "The Security Deposit is for the faithful performance of the Tenant\n",
      "under the terms and conditions of this Agreement. The Tenant must pay\n",
      "the Security Deposit at the execution of this Agreement. The Security\n",
      "Deposit shall be returned to the Tenant within the State's\n",
      "requirements after the end of the Lease Term less any itemized\n",
      "deductions. This Security Deposit shall not be credited towards any\n",
      "Rent unless the Landlord gives their written consent.\n"
     ]
    }
   ],
   "source": [
    "agreement_part = \"\"\"\n",
    "  4.  SECURITY DEPOSIT. The Tenant shall be obligated to pay the following amounts upon the execution of this Agreement: (check one)\n",
    "\n",
    "  ☑ - Security Deposit: $3000 (“Security Deposit”). The Security Deposit is for the faithful performance of the Tenant under the terms and conditions of this Agreement. The Tenant must pay the Security Deposit at the execution of this Agreement. The Security Deposit shall be returned to the Tenant within the State's requirements after the end of the Lease Term less any itemized deductions. This Security Deposit shall not be credited towards any Rent unless the Landlord gives their written consent.\n",
    "\"\"\"\n",
    "\n",
    "print(vector_store.similarity_search(agreement_part)[0].page_content)"
   ]
  },
  {
   "cell_type": "code",
   "execution_count": 13,
   "metadata": {},
   "outputs": [
    {
     "name": "stdout",
     "output_type": "stream",
     "text": [
      "Invoking RAG chain...\n"
     ]
    },
    {
     "ename": "InvalidUpdateError",
     "evalue": "Expected dict, got SHORT-TERM RENTAL AGREEMENT\n\n1.  THE PARTIES. This Short-Term Rental Agreement (“Agreement”) made on January 15, 2024, between the following:\n\n  Landlord: Alice Wonderland, with a mailing address of 123 Main St, Anytown, USA 12345 (“Landlord”), and\n\n  Tenant: Bob The Builder, with a mailing address of 456 Oak Ave, Sometown, USA 67890 (“Tenant”).\n\n  Occupant(s): Carol The Carpenter.\n\n2.  THE PREMISES. The Landlord agrees to lease the described property below to the Tenant, and the Tenant agrees to rent from the Landlord:\n\na.  Mailing Address: 789 Pine Ln, Vacationville, USA 11223\n\nb.  Residence Type: ☑ House ☐ Apartment ☐ Condo ☐ Other: \n\nc.  Bedroom(s): 3\n\nd.  Bathroom(s): 2\n\ne.  Other: Lake view\n\n  Hereinafter known as the “Premises.”\n\n3.  LEASE TERM. The Tenant shall have access to the Premises under the terms of this Agreement for the following time period: (check one)\n\n  ☑ - Fixed Term. The Tenant shall occupy the Premises starting February 1, 2024, at 3:00 PM and ending February 8, 2024, at 11:00 AM (“Lease Term”).\n\n4.  SECURITY DEPOSIT. The Tenant shall be obligated to pay the following amounts upon the execution of this Agreement: (check one)\n\n  ☑ - Security Deposit: $500 (“Security Deposit”). The Security Deposit is for the faithful performance of the Tenant under the terms and conditions of this Agreement. The Tenant must pay the Security Deposit at the execution of this Agreement. The Security Deposit shall be returned to the Tenant within the State's requirements after the end of the Lease Term less any itemized deductions. This Security Deposit shall not be credited towards any Rent unless the Landlord gives their written consent.\n\n5.  RENT. The Tenant shall pay the Landlord:\n\n  ☑ - Fixed Amount. The Tenant shall be required to pay the Landlord $1200 for the Lease Term (“Rent”). The full amount of the Rent is due at the execution of this Agreement.\n\n6.  UTILITIES. The Landlord shall be responsible for all utilities and services to the Premises EXCEPT for the following: Electricity, Internet\n\n7.  PETS. The Landlord: (check one)\n\n  ☑ - Allows Pets. The Tenant shall have the right to have 1 pet(s) on the Premises with a maximum limit of 20 pounds per pet. For the right to have pet(s) on the Premises, the Landlord shall charge a deposit of $100 that is ☑ refundable unless there are damages related to the pet. The Tenant is responsible for all damage that any pet causes, regardless of the ownership of said pet, and agrees to restore the Premises to its original condition at their expense.\n\n8.  PARKING. The Landlord: (check one)\n\n  ☑ - Shall Provide Parking. 1 parking space(s) to the Tenant for a fee of $50 to be paid ☑ at the execution of this Agreement ☐ on a monthly basis in addition to the rent. The parking space(s) are described as: Space #A\n\n9.  FEES. The Landlord requires the Tenant pays the following fees at the execution of this Agreement: (check all that apply)\n\n  ☑ - Cleaning Fee: $150\n\n  ☑ - Taxes: $80\n\n  ☐ - Other: \n\n10. SMOKING POLICY. (check one)\n\n  ☑ - Smoking is Not Allowed.\n\n11. PROPERTY MANAGER. The Landlord: (check one)\n\n  ☑ - Does Not Have a Property Manager.\n\n  Landlord’s Telephone: 555-1234\n\n  Landlord’s E-Mail: alice.wonderland@email.com\n\n12. SUBLETTING. The Tenant: (check one)\n\n  ☑ - Cannot Sublet the Premises.\n\n13. GUESTS. During the Lease Term, the Tenant is: (check one)\n\n  ☑ - Allowed to Have Guests. Rules regarding guests are as follows:\n\na.  Maximum Number of Guests: 4\n\nb.  Maximum Stay: 72 Hours\n\nc.  Other Rules: \n\n14. QUIET HOURS. The Landlord requires: (check one)\n\n  ☑ - Quiet Hours. Quiet hours begin at 10:00 PM each night and continue until sunrise. Quiet hours consist of no music and keeping all audio at a minimum level out of respect for the surrounding residents.\n\n15. MOVE-IN INSPECTION. Before, at the time of the Tenant accepting possession, or shortly thereafter, the Landlord and Tenant shall: (check one)\n\n  ☑ - Inspect the Premises. Both the Landlord and Tenant shall inspect the Premises and write any current damages and/or needed repairs on a move-in checklist.\n\n16. INSPECTION. The Landlord has the right to inspect the Premises with prior notice as in accordance with State law. Should the Tenant violate any of the terms of this Agreement, the rental period shall be terminated immediately in accordance with State law. The Tenant waives all rights to process if they fail to vacate the premises upon termination of the rental period. The Tenant shall vacate the Premises at the expiration time and date of this agreement.\n\n17. MAINTENANCE AND REPAIRS. The Tenant shall maintain the Premises in a good, clean, and ready-to-rent condition and use the Premises only in a careful and lawful manner. The Tenant shall leave the Premises in a ready to rent condition at the expiration of this Agreement, defined by the Landlord as being immediately habitable by the next tenant. The Tenant shall pay for maintenance and repairs should the Premises be left in a lesser condition. The Tenant agrees that the Landlord shall deduct costs of said services from any Security Deposit prior to a refund if Tenant causes damage to the Premises or its furnishings.\n\n18. TRASH. The Tenants shall dispose of all waste material generated during the Lease Term under the strict instruction and direction of the Landlord.\n\n19. QUIET ENJOYMENT. The Tenant, along with neighbors, shall enjoy each other’s company in a quiet and respectful manner to each other’s enjoyment. The Tenant is expected to behave in a civilized manner and shall be good neighbors with any residents of the immediate area. Creating a disturbance of the area by large gatherings or parties shall be grounds for immediate termination of this Agreement.\n\n20. LANDLORD’S LIABILITY. The Tenant and any of their guests hereby indemnify and hold harmless the Landlord against any and all claims of personal injury or property damage or loss arising from the use of the Premises regardless of the nature of the accident, injury or loss. The Tenant expressly recognizes that any insurance for property damage or loss which the Landlord may maintain on the property does not cover the personal property of Tenant and that Tenant should purchase their own insurance for their guests if such coverage is desired.\n\n21. ATTORNEY’S FEES. The Tenant agrees to pay all reasonable costs, attorney's fees, and expenses that shall be made or incurred by the Landlord enforcing this agreement.\n\n22. USE OF PREMISES. The Tenant shall use the Premises for residential use only. The Tenant is not authorized to sell products or services on the Premises or conduct any commercial activity.\n\n23. ILLEGAL ACTIVITY. The Tenant shall use the Premises for legal purposes only. Any other such use that includes but is not limited to illicit drug use, verbal or physical abuse of any person or illegal sexual behavior shall cause immediate termination of this Agreement with no refund of pre-paid Rent.\n\n24. POSSESSIONS. Any personal items or possessions that are left on the Premises are not the responsibility of the Landlord. The Landlord shall make every reasonable effort to return the item to the Tenant. If claims are not made within the State’s required time period or two (2) weeks, whichever is greater, the Landlord shall be able to keep such items to sell or for personal use.\n\n25. GOVERNING LAW. This Agreement shall be governed and subject to the laws located in the jurisdiction of Premise’s location.\n\n26. ADDITIONAL TERMS & CONDITIONS. No loud parties after 10 PM.\n\nIN WITNESS WHEREOF, the parties hereto have executed this Agreement as of the day and year first above written.\n\nLandlord Signature: ____________________________ Date: __________________\n\nPrint Name: Alice Wonderland\n\nTenant Signature: ____________________________ Date: __________________\n\nPrint Name: Bob The Builder\nFor troubleshooting, visit: https://python.langchain.com/docs/troubleshooting/errors/INVALID_GRAPH_NODE_RETURN_VALUE",
     "output_type": "error",
     "traceback": [
      "\u001b[31m---------------------------------------------------------------------------\u001b[39m",
      "\u001b[31mInvalidUpdateError\u001b[39m                        Traceback (most recent call last)",
      "\u001b[36mCell\u001b[39m\u001b[36m \u001b[39m\u001b[32mIn[13]\u001b[39m\u001b[32m, line 2\u001b[39m\n\u001b[32m      1\u001b[39m \u001b[38;5;28mprint\u001b[39m(\u001b[33m\"\u001b[39m\u001b[33mInvoking RAG chain...\u001b[39m\u001b[33m\"\u001b[39m)\n\u001b[32m----> \u001b[39m\u001b[32m2\u001b[39m generated_contract = \u001b[43mrag_chain\u001b[49m\u001b[43m.\u001b[49m\u001b[43minvoke\u001b[49m\u001b[43m(\u001b[49m\u001b[43mrental_agreement\u001b[49m\u001b[43m)\u001b[49m\n\u001b[32m      4\u001b[39m \u001b[38;5;28mprint\u001b[39m(\u001b[33m\"\u001b[39m\u001b[38;5;130;01m\\n\u001b[39;00m\u001b[33m--- Generated Solidity Contract ---\u001b[39m\u001b[33m\"\u001b[39m)\n\u001b[32m      5\u001b[39m \u001b[38;5;28mprint\u001b[39m(generated_contract)\n",
      "\u001b[36mFile \u001b[39m\u001b[32m~/master_thesis/llm/venv/lib/python3.12/site-packages/langgraph/pregel/__init__.py:2795\u001b[39m, in \u001b[36mPregel.invoke\u001b[39m\u001b[34m(self, input, config, stream_mode, output_keys, interrupt_before, interrupt_after, checkpoint_during, debug, **kwargs)\u001b[39m\n\u001b[32m   2793\u001b[39m \u001b[38;5;28;01melse\u001b[39;00m:\n\u001b[32m   2794\u001b[39m     chunks = []\n\u001b[32m-> \u001b[39m\u001b[32m2795\u001b[39m \u001b[43m\u001b[49m\u001b[38;5;28;43;01mfor\u001b[39;49;00m\u001b[43m \u001b[49m\u001b[43mchunk\u001b[49m\u001b[43m \u001b[49m\u001b[38;5;129;43;01min\u001b[39;49;00m\u001b[43m \u001b[49m\u001b[38;5;28;43mself\u001b[39;49m\u001b[43m.\u001b[49m\u001b[43mstream\u001b[49m\u001b[43m(\u001b[49m\n\u001b[32m   2796\u001b[39m \u001b[43m    \u001b[49m\u001b[38;5;28;43minput\u001b[39;49m\u001b[43m,\u001b[49m\n\u001b[32m   2797\u001b[39m \u001b[43m    \u001b[49m\u001b[43mconfig\u001b[49m\u001b[43m,\u001b[49m\n\u001b[32m   2798\u001b[39m \u001b[43m    \u001b[49m\u001b[43mstream_mode\u001b[49m\u001b[43m=\u001b[49m\u001b[43mstream_mode\u001b[49m\u001b[43m,\u001b[49m\n\u001b[32m   2799\u001b[39m \u001b[43m    \u001b[49m\u001b[43moutput_keys\u001b[49m\u001b[43m=\u001b[49m\u001b[43moutput_keys\u001b[49m\u001b[43m,\u001b[49m\n\u001b[32m   2800\u001b[39m \u001b[43m    \u001b[49m\u001b[43minterrupt_before\u001b[49m\u001b[43m=\u001b[49m\u001b[43minterrupt_before\u001b[49m\u001b[43m,\u001b[49m\n\u001b[32m   2801\u001b[39m \u001b[43m    \u001b[49m\u001b[43minterrupt_after\u001b[49m\u001b[43m=\u001b[49m\u001b[43minterrupt_after\u001b[49m\u001b[43m,\u001b[49m\n\u001b[32m   2802\u001b[39m \u001b[43m    \u001b[49m\u001b[43mcheckpoint_during\u001b[49m\u001b[43m=\u001b[49m\u001b[43mcheckpoint_during\u001b[49m\u001b[43m,\u001b[49m\n\u001b[32m   2803\u001b[39m \u001b[43m    \u001b[49m\u001b[43mdebug\u001b[49m\u001b[43m=\u001b[49m\u001b[43mdebug\u001b[49m\u001b[43m,\u001b[49m\n\u001b[32m   2804\u001b[39m \u001b[43m    \u001b[49m\u001b[43m*\u001b[49m\u001b[43m*\u001b[49m\u001b[43mkwargs\u001b[49m\u001b[43m,\u001b[49m\n\u001b[32m   2805\u001b[39m \u001b[43m\u001b[49m\u001b[43m)\u001b[49m\u001b[43m:\u001b[49m\n\u001b[32m   2806\u001b[39m \u001b[43m    \u001b[49m\u001b[38;5;28;43;01mif\u001b[39;49;00m\u001b[43m \u001b[49m\u001b[43mstream_mode\u001b[49m\u001b[43m \u001b[49m\u001b[43m==\u001b[49m\u001b[43m \u001b[49m\u001b[33;43m\"\u001b[39;49m\u001b[33;43mvalues\u001b[39;49m\u001b[33;43m\"\u001b[39;49m\u001b[43m:\u001b[49m\n\u001b[32m   2807\u001b[39m \u001b[43m        \u001b[49m\u001b[43mlatest\u001b[49m\u001b[43m \u001b[49m\u001b[43m=\u001b[49m\u001b[43m \u001b[49m\u001b[43mchunk\u001b[49m\n",
      "\u001b[36mFile \u001b[39m\u001b[32m~/master_thesis/llm/venv/lib/python3.12/site-packages/langgraph/pregel/__init__.py:2433\u001b[39m, in \u001b[36mPregel.stream\u001b[39m\u001b[34m(self, input, config, stream_mode, output_keys, interrupt_before, interrupt_after, checkpoint_during, debug, subgraphs)\u001b[39m\n\u001b[32m   2427\u001b[39m     \u001b[38;5;66;03m# Similarly to Bulk Synchronous Parallel / Pregel model\u001b[39;00m\n\u001b[32m   2428\u001b[39m     \u001b[38;5;66;03m# computation proceeds in steps, while there are channel updates.\u001b[39;00m\n\u001b[32m   2429\u001b[39m     \u001b[38;5;66;03m# Channel updates from step N are only visible in step N+1\u001b[39;00m\n\u001b[32m   2430\u001b[39m     \u001b[38;5;66;03m# channels are guaranteed to be immutable for the duration of the step,\u001b[39;00m\n\u001b[32m   2431\u001b[39m     \u001b[38;5;66;03m# with channel updates applied only at the transition between steps.\u001b[39;00m\n\u001b[32m   2432\u001b[39m     \u001b[38;5;28;01mwhile\u001b[39;00m loop.tick(input_keys=\u001b[38;5;28mself\u001b[39m.input_channels):\n\u001b[32m-> \u001b[39m\u001b[32m2433\u001b[39m \u001b[43m        \u001b[49m\u001b[38;5;28;43;01mfor\u001b[39;49;00m\u001b[43m \u001b[49m\u001b[43m_\u001b[49m\u001b[43m \u001b[49m\u001b[38;5;129;43;01min\u001b[39;49;00m\u001b[43m \u001b[49m\u001b[43mrunner\u001b[49m\u001b[43m.\u001b[49m\u001b[43mtick\u001b[49m\u001b[43m(\u001b[49m\n\u001b[32m   2434\u001b[39m \u001b[43m            \u001b[49m\u001b[43mloop\u001b[49m\u001b[43m.\u001b[49m\u001b[43mtasks\u001b[49m\u001b[43m.\u001b[49m\u001b[43mvalues\u001b[49m\u001b[43m(\u001b[49m\u001b[43m)\u001b[49m\u001b[43m,\u001b[49m\n\u001b[32m   2435\u001b[39m \u001b[43m            \u001b[49m\u001b[43mtimeout\u001b[49m\u001b[43m=\u001b[49m\u001b[38;5;28;43mself\u001b[39;49m\u001b[43m.\u001b[49m\u001b[43mstep_timeout\u001b[49m\u001b[43m,\u001b[49m\n\u001b[32m   2436\u001b[39m \u001b[43m            \u001b[49m\u001b[43mretry_policy\u001b[49m\u001b[43m=\u001b[49m\u001b[38;5;28;43mself\u001b[39;49m\u001b[43m.\u001b[49m\u001b[43mretry_policy\u001b[49m\u001b[43m,\u001b[49m\n\u001b[32m   2437\u001b[39m \u001b[43m            \u001b[49m\u001b[43mget_waiter\u001b[49m\u001b[43m=\u001b[49m\u001b[43mget_waiter\u001b[49m\u001b[43m,\u001b[49m\n\u001b[32m   2438\u001b[39m \u001b[43m        \u001b[49m\u001b[43m)\u001b[49m\u001b[43m:\u001b[49m\n\u001b[32m   2439\u001b[39m \u001b[43m            \u001b[49m\u001b[38;5;66;43;03m# emit output\u001b[39;49;00m\n\u001b[32m   2440\u001b[39m \u001b[43m            \u001b[49m\u001b[38;5;28;43;01myield from\u001b[39;49;00m\u001b[43m \u001b[49m\u001b[43moutput\u001b[49m\u001b[43m(\u001b[49m\u001b[43m)\u001b[49m\n\u001b[32m   2441\u001b[39m \u001b[38;5;66;03m# emit output\u001b[39;00m\n",
      "\u001b[36mFile \u001b[39m\u001b[32m~/master_thesis/llm/venv/lib/python3.12/site-packages/langgraph/pregel/write.py:99\u001b[39m, in \u001b[36mChannelWrite._write\u001b[39m\u001b[34m(self, input, config)\u001b[39m\n\u001b[32m     90\u001b[39m \u001b[38;5;28;01mdef\u001b[39;00m\u001b[38;5;250m \u001b[39m\u001b[34m_write\u001b[39m(\u001b[38;5;28mself\u001b[39m, \u001b[38;5;28minput\u001b[39m: Any, config: RunnableConfig) -> \u001b[38;5;28;01mNone\u001b[39;00m:\n\u001b[32m     91\u001b[39m     writes = [\n\u001b[32m     92\u001b[39m         ChannelWriteEntry(write.channel, \u001b[38;5;28minput\u001b[39m, write.skip_none, write.mapper)\n\u001b[32m     93\u001b[39m         \u001b[38;5;28;01mif\u001b[39;00m \u001b[38;5;28misinstance\u001b[39m(write, ChannelWriteEntry) \u001b[38;5;129;01mand\u001b[39;00m write.value \u001b[38;5;129;01mis\u001b[39;00m PASSTHROUGH\n\u001b[32m   (...)\u001b[39m\u001b[32m     97\u001b[39m         \u001b[38;5;28;01mfor\u001b[39;00m write \u001b[38;5;129;01min\u001b[39;00m \u001b[38;5;28mself\u001b[39m.writes\n\u001b[32m     98\u001b[39m     ]\n\u001b[32m---> \u001b[39m\u001b[32m99\u001b[39m     \u001b[38;5;28;43mself\u001b[39;49m\u001b[43m.\u001b[49m\u001b[43mdo_write\u001b[49m\u001b[43m(\u001b[49m\n\u001b[32m    100\u001b[39m \u001b[43m        \u001b[49m\u001b[43mconfig\u001b[49m\u001b[43m,\u001b[49m\n\u001b[32m    101\u001b[39m \u001b[43m        \u001b[49m\u001b[43mwrites\u001b[49m\u001b[43m,\u001b[49m\n\u001b[32m    102\u001b[39m \u001b[43m    \u001b[49m\u001b[43m)\u001b[49m\n\u001b[32m    103\u001b[39m     \u001b[38;5;28;01mreturn\u001b[39;00m \u001b[38;5;28minput\u001b[39m\n",
      "\u001b[36mFile \u001b[39m\u001b[32m~/master_thesis/llm/venv/lib/python3.12/site-packages/langgraph/pregel/write.py:142\u001b[39m, in \u001b[36mChannelWrite.do_write\u001b[39m\u001b[34m(config, writes, allow_passthrough, require_at_least_one_of)\u001b[39m\n\u001b[32m    139\u001b[39m \u001b[38;5;66;03m# if we want to persist writes found before hitting a ParentCommand\u001b[39;00m\n\u001b[32m    140\u001b[39m \u001b[38;5;66;03m# can move this to a finally block\u001b[39;00m\n\u001b[32m    141\u001b[39m write: TYPE_SEND = config[CONF][CONFIG_KEY_SEND]\n\u001b[32m--> \u001b[39m\u001b[32m142\u001b[39m write(\u001b[43m_assemble_writes\u001b[49m\u001b[43m(\u001b[49m\u001b[43mwrites\u001b[49m\u001b[43m)\u001b[49m)\n",
      "\u001b[36mFile \u001b[39m\u001b[32m~/master_thesis/llm/venv/lib/python3.12/site-packages/langgraph/pregel/write.py:199\u001b[39m, in \u001b[36m_assemble_writes\u001b[39m\u001b[34m(writes)\u001b[39m\n\u001b[32m    197\u001b[39m     tuples.append((TASKS, w))\n\u001b[32m    198\u001b[39m \u001b[38;5;28;01melif\u001b[39;00m \u001b[38;5;28misinstance\u001b[39m(w, ChannelWriteTupleEntry):\n\u001b[32m--> \u001b[39m\u001b[32m199\u001b[39m     \u001b[38;5;28;01mif\u001b[39;00m ww := \u001b[43mw\u001b[49m\u001b[43m.\u001b[49m\u001b[43mmapper\u001b[49m\u001b[43m(\u001b[49m\u001b[43mw\u001b[49m\u001b[43m.\u001b[49m\u001b[43mvalue\u001b[49m\u001b[43m)\u001b[49m:\n\u001b[32m    200\u001b[39m         tuples.extend(ww)\n\u001b[32m    201\u001b[39m \u001b[38;5;28;01melif\u001b[39;00m \u001b[38;5;28misinstance\u001b[39m(w, ChannelWriteEntry):\n",
      "\u001b[36mFile \u001b[39m\u001b[32m~/master_thesis/llm/venv/lib/python3.12/site-packages/langgraph/graph/state.py:767\u001b[39m, in \u001b[36mCompiledStateGraph.attach_node.<locals>._get_updates\u001b[39m\u001b[34m(input)\u001b[39m\n\u001b[32m    762\u001b[39m \u001b[38;5;28;01melse\u001b[39;00m:\n\u001b[32m    763\u001b[39m     msg = create_error_message(\n\u001b[32m    764\u001b[39m         message=\u001b[33mf\u001b[39m\u001b[33m\"\u001b[39m\u001b[33mExpected dict, got \u001b[39m\u001b[38;5;132;01m{\u001b[39;00m\u001b[38;5;28minput\u001b[39m\u001b[38;5;132;01m}\u001b[39;00m\u001b[33m\"\u001b[39m,\n\u001b[32m    765\u001b[39m         error_code=ErrorCode.INVALID_GRAPH_NODE_RETURN_VALUE,\n\u001b[32m    766\u001b[39m     )\n\u001b[32m--> \u001b[39m\u001b[32m767\u001b[39m     \u001b[38;5;28;01mraise\u001b[39;00m InvalidUpdateError(msg)\n",
      "\u001b[31mInvalidUpdateError\u001b[39m: Expected dict, got SHORT-TERM RENTAL AGREEMENT\n\n1.  THE PARTIES. This Short-Term Rental Agreement (“Agreement”) made on January 15, 2024, between the following:\n\n  Landlord: Alice Wonderland, with a mailing address of 123 Main St, Anytown, USA 12345 (“Landlord”), and\n\n  Tenant: Bob The Builder, with a mailing address of 456 Oak Ave, Sometown, USA 67890 (“Tenant”).\n\n  Occupant(s): Carol The Carpenter.\n\n2.  THE PREMISES. The Landlord agrees to lease the described property below to the Tenant, and the Tenant agrees to rent from the Landlord:\n\na.  Mailing Address: 789 Pine Ln, Vacationville, USA 11223\n\nb.  Residence Type: ☑ House ☐ Apartment ☐ Condo ☐ Other: \n\nc.  Bedroom(s): 3\n\nd.  Bathroom(s): 2\n\ne.  Other: Lake view\n\n  Hereinafter known as the “Premises.”\n\n3.  LEASE TERM. The Tenant shall have access to the Premises under the terms of this Agreement for the following time period: (check one)\n\n  ☑ - Fixed Term. The Tenant shall occupy the Premises starting February 1, 2024, at 3:00 PM and ending February 8, 2024, at 11:00 AM (“Lease Term”).\n\n4.  SECURITY DEPOSIT. The Tenant shall be obligated to pay the following amounts upon the execution of this Agreement: (check one)\n\n  ☑ - Security Deposit: $500 (“Security Deposit”). The Security Deposit is for the faithful performance of the Tenant under the terms and conditions of this Agreement. The Tenant must pay the Security Deposit at the execution of this Agreement. The Security Deposit shall be returned to the Tenant within the State's requirements after the end of the Lease Term less any itemized deductions. This Security Deposit shall not be credited towards any Rent unless the Landlord gives their written consent.\n\n5.  RENT. The Tenant shall pay the Landlord:\n\n  ☑ - Fixed Amount. The Tenant shall be required to pay the Landlord $1200 for the Lease Term (“Rent”). The full amount of the Rent is due at the execution of this Agreement.\n\n6.  UTILITIES. The Landlord shall be responsible for all utilities and services to the Premises EXCEPT for the following: Electricity, Internet\n\n7.  PETS. The Landlord: (check one)\n\n  ☑ - Allows Pets. The Tenant shall have the right to have 1 pet(s) on the Premises with a maximum limit of 20 pounds per pet. For the right to have pet(s) on the Premises, the Landlord shall charge a deposit of $100 that is ☑ refundable unless there are damages related to the pet. The Tenant is responsible for all damage that any pet causes, regardless of the ownership of said pet, and agrees to restore the Premises to its original condition at their expense.\n\n8.  PARKING. The Landlord: (check one)\n\n  ☑ - Shall Provide Parking. 1 parking space(s) to the Tenant for a fee of $50 to be paid ☑ at the execution of this Agreement ☐ on a monthly basis in addition to the rent. The parking space(s) are described as: Space #A\n\n9.  FEES. The Landlord requires the Tenant pays the following fees at the execution of this Agreement: (check all that apply)\n\n  ☑ - Cleaning Fee: $150\n\n  ☑ - Taxes: $80\n\n  ☐ - Other: \n\n10. SMOKING POLICY. (check one)\n\n  ☑ - Smoking is Not Allowed.\n\n11. PROPERTY MANAGER. The Landlord: (check one)\n\n  ☑ - Does Not Have a Property Manager.\n\n  Landlord’s Telephone: 555-1234\n\n  Landlord’s E-Mail: alice.wonderland@email.com\n\n12. SUBLETTING. The Tenant: (check one)\n\n  ☑ - Cannot Sublet the Premises.\n\n13. GUESTS. During the Lease Term, the Tenant is: (check one)\n\n  ☑ - Allowed to Have Guests. Rules regarding guests are as follows:\n\na.  Maximum Number of Guests: 4\n\nb.  Maximum Stay: 72 Hours\n\nc.  Other Rules: \n\n14. QUIET HOURS. The Landlord requires: (check one)\n\n  ☑ - Quiet Hours. Quiet hours begin at 10:00 PM each night and continue until sunrise. Quiet hours consist of no music and keeping all audio at a minimum level out of respect for the surrounding residents.\n\n15. MOVE-IN INSPECTION. Before, at the time of the Tenant accepting possession, or shortly thereafter, the Landlord and Tenant shall: (check one)\n\n  ☑ - Inspect the Premises. Both the Landlord and Tenant shall inspect the Premises and write any current damages and/or needed repairs on a move-in checklist.\n\n16. INSPECTION. The Landlord has the right to inspect the Premises with prior notice as in accordance with State law. Should the Tenant violate any of the terms of this Agreement, the rental period shall be terminated immediately in accordance with State law. The Tenant waives all rights to process if they fail to vacate the premises upon termination of the rental period. The Tenant shall vacate the Premises at the expiration time and date of this agreement.\n\n17. MAINTENANCE AND REPAIRS. The Tenant shall maintain the Premises in a good, clean, and ready-to-rent condition and use the Premises only in a careful and lawful manner. The Tenant shall leave the Premises in a ready to rent condition at the expiration of this Agreement, defined by the Landlord as being immediately habitable by the next tenant. The Tenant shall pay for maintenance and repairs should the Premises be left in a lesser condition. The Tenant agrees that the Landlord shall deduct costs of said services from any Security Deposit prior to a refund if Tenant causes damage to the Premises or its furnishings.\n\n18. TRASH. The Tenants shall dispose of all waste material generated during the Lease Term under the strict instruction and direction of the Landlord.\n\n19. QUIET ENJOYMENT. The Tenant, along with neighbors, shall enjoy each other’s company in a quiet and respectful manner to each other’s enjoyment. The Tenant is expected to behave in a civilized manner and shall be good neighbors with any residents of the immediate area. Creating a disturbance of the area by large gatherings or parties shall be grounds for immediate termination of this Agreement.\n\n20. LANDLORD’S LIABILITY. The Tenant and any of their guests hereby indemnify and hold harmless the Landlord against any and all claims of personal injury or property damage or loss arising from the use of the Premises regardless of the nature of the accident, injury or loss. The Tenant expressly recognizes that any insurance for property damage or loss which the Landlord may maintain on the property does not cover the personal property of Tenant and that Tenant should purchase their own insurance for their guests if such coverage is desired.\n\n21. ATTORNEY’S FEES. The Tenant agrees to pay all reasonable costs, attorney's fees, and expenses that shall be made or incurred by the Landlord enforcing this agreement.\n\n22. USE OF PREMISES. The Tenant shall use the Premises for residential use only. The Tenant is not authorized to sell products or services on the Premises or conduct any commercial activity.\n\n23. ILLEGAL ACTIVITY. The Tenant shall use the Premises for legal purposes only. Any other such use that includes but is not limited to illicit drug use, verbal or physical abuse of any person or illegal sexual behavior shall cause immediate termination of this Agreement with no refund of pre-paid Rent.\n\n24. POSSESSIONS. Any personal items or possessions that are left on the Premises are not the responsibility of the Landlord. The Landlord shall make every reasonable effort to return the item to the Tenant. If claims are not made within the State’s required time period or two (2) weeks, whichever is greater, the Landlord shall be able to keep such items to sell or for personal use.\n\n25. GOVERNING LAW. This Agreement shall be governed and subject to the laws located in the jurisdiction of Premise’s location.\n\n26. ADDITIONAL TERMS & CONDITIONS. No loud parties after 10 PM.\n\nIN WITNESS WHEREOF, the parties hereto have executed this Agreement as of the day and year first above written.\n\nLandlord Signature: ____________________________ Date: __________________\n\nPrint Name: Alice Wonderland\n\nTenant Signature: ____________________________ Date: __________________\n\nPrint Name: Bob The Builder\nFor troubleshooting, visit: https://python.langchain.com/docs/troubleshooting/errors/INVALID_GRAPH_NODE_RETURN_VALUE",
      "During task with name '__start__' and id '3de27ca0-0f43-b681-cf9a-8cb1bedefef9'"
     ]
    }
   ],
   "source": [
    "print(\"Invoking RAG chain...\")\n",
    "generated_contract = rag_chain.invoke({\"question\": rental_agreement})\n",
    "\n",
    "print(\"\\n--- Generated Solidity Contract ---\")\n",
    "print(generated_contract)\n",
    "print(\"---------------------------------------------\")"
   ]
  }
 ],
 "metadata": {
  "kernelspec": {
   "display_name": "venv",
   "language": "python",
   "name": "python3"
  },
  "language_info": {
   "codemirror_mode": {
    "name": "ipython",
    "version": 3
   },
   "file_extension": ".py",
   "mimetype": "text/x-python",
   "name": "python",
   "nbconvert_exporter": "python",
   "pygments_lexer": "ipython3",
   "version": "3.12.10"
  }
 },
 "nbformat": 4,
 "nbformat_minor": 2
}
