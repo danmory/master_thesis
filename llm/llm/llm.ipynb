{
 "cells": [
  {
   "cell_type": "code",
   "execution_count": null,
   "metadata": {},
   "outputs": [],
   "source": [
    "from ctransformers import AutoModelForCausalLM\n",
    "\n",
    "# CT_METAL=1 poetry run pip install ctransformers --no-binary ctransformers\n",
    "llm = AutoModelForCausalLM.from_pretrained(\n",
    "    \"../models/codellama-7b.Q5_K_M.gguf\",\n",
    "    model_type=\"llama\",\n",
    "    gpu_layers=50,\n",
    "    context_length=4096,\n",
    ")\n"
   ]
  },
  {
   "cell_type": "code",
   "execution_count": 43,
   "metadata": {},
   "outputs": [],
   "source": [
    "import os\n",
    "\n",
    "# Read the contract prompt and rental agreement\n",
    "def read_file(file_path):\n",
    "    with open(file_path, 'r') as file:\n",
    "        return file.read()\n",
    "\n",
    "def read_rental_agreement(file_path, n):\n",
    "    with open(file_path, 'r') as file:\n",
    "        agreements = file.read().split('---')\n",
    "        return agreements[n].strip()\n",
    "\n",
    "contract_prompt = read_file('../docs/contract_prompt.txt')"
   ]
  },
  {
   "cell_type": "code",
   "execution_count": null,
   "metadata": {},
   "outputs": [
    {
     "name": "stdout",
     "output_type": "stream",
     "text": [
      "Generated Solidity Smart Contract:\n",
      "https://github.com/ConsenSys/smart-contracts-best-practices#security-considerations\n",
      "\n",
      "Gas Usage Estimates for the above requirements (using Remix):\n",
      "1. Initialize new rental agreement - 23,056 gas\n",
      "2. Process monthly rent payment - 487,992 gas\n",
      "3. Automatic payment verification - 10,000 gas\n",
      "4. Agreement termination handling - 45,\n"
     ]
    }
   ],
   "source": [
    "rental_agreement = read_rental_agreement('../docs/rentals.txt', 0)\n",
    "\n",
    "# Prepare the combined prompt\n",
    "prompt = f\"\"\"\n",
    "{contract_prompt}\n",
    "\n",
    "Here is a sample rental agreement for reference:\n",
    "{rental_agreement}\n",
    "\n",
    "Write a complete Solidity smart contract implementation that follows the requirements above.\n",
    "// SPDX-License-Identifier: MIT\n",
    "pragma solidity ^0.8.0;\n",
    "\n",
    "contract RentalAgreement {\n",
    "    // Begin implementation below:\n",
    "\"\"\"\n",
    "\n",
    "# Configure generation parameters for Solidity contract generation\n",
    "generation_config = {\n",
    "    \"temperature\": 0.2,  # Lower temperature for more focused and deterministic output\n",
    "    \"top_p\": 0.1,      # Lower top_p for higher quality code generation\n",
    "    \"max_new_tokens\": 2500,  # Increased to ensure complete contract generation\n",
    "    \"stop\": ["// Test", "```"],  # Modified stop sequences\n",
    "    \"repetition_penalty\": 1.05  # Slightly reduced to allow necessary code structure repetition\n",
    "}\n",
    "\n",
    "# Generate the Solidity smart contract\n",
    "response = llm(prompt, **generation_config)\n",
    "\n",
    "# Print the generated contract\n",
    "print("// SPDX-License-Identifier: MIT")\n",
    "print("pragma solidity ^0.8.0;\n")\n",
    "print(response)"
   ]
  }
 ],
 "metadata": {
  "kernelspec": {
   "display_name": ".venv",
   "language": "python",
   "name": "python3"
  },
  "language_info": {
   "codemirror_mode": {
    "name": "ipython",
    "version": 3
   },
   "file_extension": ".py",
   "mimetype": "text/x-python",
   "name": "python",
   "nbconvert_exporter": "python",
   "pygments_lexer": "ipython3",
   "version": "3.12.8"
  }
 },
 "nbformat": 4,
 "nbformat_minor": 2
}
